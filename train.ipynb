{
 "cells": [
  {
   "cell_type": "code",
   "execution_count": null,
   "id": "e866924b",
   "metadata": {},
   "outputs": [],
   "source": [
    "import os\n",
    "from pathlib import Path\n",
    "\n",
    "# os.makedirs(pretrainedDir,exist_ok=True)\n",
    "\n",
    "# # Set custom cache directory\n",
    "# settings.update({'weights_dir': pretrainedDir})\n",
    "\n",
    "from ultralytics import YOLO\n"
   ]
  },
  {
   "cell_type": "code",
   "execution_count": null,
   "id": "453bdb34",
   "metadata": {},
   "outputs": [],
   "source": [
    "# import pretrained model from cache\n",
    "\n",
    "# ==============================\n",
    "#           Parameters\n",
    "# ==============================\n",
    "pretrainedDir = 'pretrained/' #  directory for pretrained model\n",
    "model_name = 'yolo11n' # model name\n",
    "datasetYaml = 'datasets/blind_detect/data.yaml' # config file of dataset"
   ]
  },
  {
   "cell_type": "code",
   "execution_count": null,
   "id": "d4dd643a",
   "metadata": {},
   "outputs": [],
   "source": [
    "# load pretrianed model\n",
    "\n",
    "model_path = Path(pretrainedDir) / f'{model_name}.pt'\n",
    "model = YOLO(model=model_path)"
   ]
  },
  {
   "cell_type": "code",
   "execution_count": null,
   "id": "35d85016",
   "metadata": {},
   "outputs": [],
   "source": [
    "\n",
    "# ==============================\n",
    "#             Train\n",
    "# ==============================\n",
    "\n",
    "# train with data from Roboflow Universe - Blind assistance system Dataset \n",
    "\n",
    "result = model.train(\n",
    "    data=Path(datasetYaml),\n",
    "    epochs=10,\n",
    "    imgsz=640,\n",
    "    batch=16,\n",
    "    name='testing'\n",
    ")\n"
   ]
  },
  {
   "cell_type": "code",
   "execution_count": null,
   "id": "7057098e",
   "metadata": {},
   "outputs": [],
   "source": [
    "result.save_dir"
   ]
  },
  {
   "cell_type": "code",
   "execution_count": null,
   "id": "dcc7a29b",
   "metadata": {},
   "outputs": [],
   "source": [
    "# load best model\n",
    "best_model_path = result.save_dir / 'weights' / 'best.pt'\n",
    "model = YOLO(best_model_path)\n",
    "\n",
    "# export to onnx model \n",
    "# fix model input size to 640\n",
    "model.export(format=\"onnx\", imgsz=640, dynamic=False)\n",
    "\n"
   ]
  },
  {
   "cell_type": "code",
   "execution_count": null,
   "id": "4be26bf7",
   "metadata": {},
   "outputs": [],
   "source": [
    "model"
   ]
  }
 ],
 "metadata": {
  "kernelspec": {
   "display_name": "yolo",
   "language": "python",
   "name": "python3"
  },
  "language_info": {
   "codemirror_mode": {
    "name": "ipython",
    "version": 3
   },
   "file_extension": ".py",
   "mimetype": "text/x-python",
   "name": "python",
   "nbconvert_exporter": "python",
   "pygments_lexer": "ipython3",
   "version": "3.11.14"
  }
 },
 "nbformat": 4,
 "nbformat_minor": 5
}
